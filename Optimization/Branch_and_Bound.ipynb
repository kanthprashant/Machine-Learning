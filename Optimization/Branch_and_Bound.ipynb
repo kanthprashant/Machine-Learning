{
 "cells": [
  {
   "cell_type": "code",
   "execution_count": 1,
   "metadata": {},
   "outputs": [],
   "source": [
    "import numpy as np\n",
    "import copy\n",
    "import math\n",
    "import matplotlib.pyplot as plt"
   ]
  },
  {
   "cell_type": "code",
   "execution_count": 2,
   "metadata": {},
   "outputs": [],
   "source": [
    "# calculate mu to find upper bound after partial assignment of variables\n",
    "def calculate_mu(alpha, beta, Rsquare):\n",
    "    multiplier = 0\n",
    "    for a, b in zip(alpha, beta):\n",
    "        multiplier += (a**2/b)\n",
    "        \n",
    "    multiplier = math.sqrt(multiplier)\n",
    "    # print(\"multiplier = {}, Rsquare = {}\".format(multiplier, Rsquare))\n",
    "\n",
    "    mu = (1/(2*math.sqrt(Rsquare))) * multiplier\n",
    "\n",
    "    return mu"
   ]
  },
  {
   "cell_type": "code",
   "execution_count": 3,
   "metadata": {},
   "outputs": [],
   "source": [
    "# calculate upper bound after partial assignment of variables\n",
    "def partial_upperBound(x, alpha, beta, Rsquare, allocated):\n",
    "    alloc_val = 0\n",
    "    x_copy = copy.deepcopy(x)\n",
    "    for i in range(allocated):\n",
    "        alloc_val += beta[i]*(x_copy[i]**2)\n",
    "    R_sq_new = Rsquare - alloc_val\n",
    "    # print(\"Rsquare = {}\".format(R_sq_new))\n",
    "    \n",
    "    p = len(x_copy) - 1\n",
    "    m = allocated - 1\n",
    "    mu_val = calculate_mu(alpha[allocated:], beta[allocated:], R_sq_new)\n",
    "    # print(\"mu = {}\".format(mu_val))\n",
    "    \n",
    "    while(p > m):\n",
    "        x_copy[p] = alpha[p] / (2*mu_val*beta[p])\n",
    "        p -= 1\n",
    "    \n",
    "    # print(x)\n",
    "    upperBound = sum([i*j for i, j in zip(alpha, x_copy)])\n",
    "\n",
    "    return upperBound"
   ]
  },
  {
   "cell_type": "markdown",
   "metadata": {},
   "source": [
    "$$ \\text{Constraint:} \\sum \\limits _{i=1} ^{N} \\beta _i x _i ^2 \\leq R^2$$"
   ]
  },
  {
   "cell_type": "code",
   "execution_count": 4,
   "metadata": {},
   "outputs": [],
   "source": [
    "# check for constraint satisfiability\n",
    "def satisfy_Cons(x, beta, Rsquare):\n",
    "    x_square = list(map(lambda n: n**2, x))\n",
    "    res = sum([i*j for i, j in zip(x_square, beta)])\n",
    "    if res <= Rsquare:\n",
    "        return True\n",
    "    return False"
   ]
  },
  {
   "cell_type": "markdown",
   "metadata": {},
   "source": [
    "$$ \\text{Objective:} \\quad \\underset{\\mathbf{\\underline{x}}\\in Z^N}{\\operatorname{max}}  \\sum \\limits _{i=1} ^{N} \\alpha _i x _i $$"
   ]
  },
  {
   "cell_type": "code",
   "execution_count": 5,
   "metadata": {},
   "outputs": [],
   "source": [
    "# calculate value of objective function\n",
    "def maxObjective(x, alpha):\n",
    "    return sum([i*j for i, j in zip(alpha, x)])"
   ]
  },
  {
   "cell_type": "markdown",
   "metadata": {},
   "source": [
    "$$ \\text{ Individual } x \\text{ bounds: } \\quad x _i = \\sqrt{R^2/\\beta _i}"
   ]
  },
  {
   "cell_type": "code",
   "execution_count": 6,
   "metadata": {},
   "outputs": [],
   "source": [
    "# Individual variable bounds\n",
    "def init_Xbounds(beta, Rsquare):\n",
    "    xbounds = list(map(lambda b: math.ceil(math.sqrt(Rsquare/b)), beta))\n",
    "\n",
    "    return xbounds"
   ]
  },
  {
   "cell_type": "markdown",
   "metadata": {},
   "source": [
    "$$\\underset{\\mathbf{x _1,x _2,x _3,x _4,x _5}}{\\operatorname{max}} x _1 + 2x _2 + 3x _3 + 4x _4 +5 x_5 \\quad \\text{ s.t. } 5x _1^2 + 4 x_2^2 + 3 x_3^2 + 2 x_4^2 + x _5^2 \\geq 1000 \\text{, where } R^2 = 1000 $$"
   ]
  },
  {
   "cell_type": "code",
   "execution_count": 7,
   "metadata": {},
   "outputs": [],
   "source": [
    "# Required variable assignments\n",
    "alpha = [1, 2, 3, 4, 5]\n",
    "beta = [5, 4, 3, 2, 1]\n",
    "Rsquare = 1000\n",
    "lower_bound = [176]\n",
    "upper_bound = 192\n",
    "x = [0, 0, 0, 0, 0]"
   ]
  },
  {
   "cell_type": "code",
   "execution_count": 8,
   "metadata": {},
   "outputs": [],
   "source": [
    "xbounds = init_Xbounds(beta, Rsquare)"
   ]
  },
  {
   "cell_type": "markdown",
   "metadata": {},
   "source": [
    "$$ \\underset{\\mathbf{\\underline{x}}\\in R^N}{\\operatorname{max}}  \\sum \\limits _{i=1} ^{N} \\alpha _i x _i \\quad \\text{ s.t. } \\sum \\limits _{i=1} ^{N} \\beta _i x _i ^2 \\leq R^2$$"
   ]
  },
  {
   "cell_type": "markdown",
   "metadata": {},
   "source": [
    "#### Greedy Approach"
   ]
  },
  {
   "cell_type": "code",
   "execution_count": 9,
   "metadata": {},
   "outputs": [
    {
     "name": "stdout",
     "output_type": "stream",
     "text": [
      "Iterations: 638482\n",
      "Total Feasible solutions: 604473\n",
      "Total Optimal solutions: 5\n",
      "Optimal Solutions [x1, x2, x3, x4, x5] = [[0, 2, 6, 10, 26], [1, 2, 4, 10, 27], [1, 2, 6, 11, 25], [1, 3, 5, 10, 26], [2, 3, 5, 11, 25]]\n"
     ]
    }
   ],
   "source": [
    "greedy_optim_sols = []\n",
    "greedy_feasible_sols = []\n",
    "iter = 0\n",
    "for x1 in range(xbounds[0]):\n",
    "    x = [x1, 0, 0, 0, 0]\n",
    "    \n",
    "    if (satisfy_Cons(x, beta, Rsquare)):\n",
    "        for x2 in range(xbounds[1]):\n",
    "            x = [x1, x2, 0, 0, 0]\n",
    "            \n",
    "            if (satisfy_Cons(x, beta, Rsquare)):\n",
    "                for x3 in range(xbounds[2]):\n",
    "                    x = [x1, x2, x3, 0, 0]\n",
    "                    \n",
    "                    if (satisfy_Cons(x, beta, Rsquare)):\n",
    "                        for x4 in range(xbounds[3]):\n",
    "                            x = [x1, x2, x3, x4, 0]\n",
    "                            \n",
    "                            if (satisfy_Cons(x, beta, Rsquare)):\n",
    "                                for x5 in range(xbounds[4]):\n",
    "                                    iter += 1\n",
    "                                    x = [x1, x2, x3, x4, x5]\n",
    "                                    obj_val = maxObjective(x, alpha)\n",
    "                                    \n",
    "                                    if (satisfy_Cons(x, beta, Rsquare)):\n",
    "                                        greedy_feasible_sols.append(x)\n",
    "                                        if obj_val == upper_bound:\n",
    "                                            greedy_optim_sols.append(x)\n",
    "                                    \n",
    "                                    else:   break\n",
    "                            \n",
    "                            else:   break\n",
    "                    \n",
    "                    else:   break\n",
    "            \n",
    "            else:   break\n",
    "    \n",
    "    else:   break\n",
    "\n",
    "print(\"Iterations: {}\".format(iter))\n",
    "print(\"Total Feasible solutions: {}\".format(len(greedy_feasible_sols)))\n",
    "print(\"Total Optimal solutions: {}\".format(len(greedy_optim_sols)))\n",
    "print(\"Optimal Solutions [x1, x2, x3, x4, x5] = {}\".format(greedy_optim_sols))\n"
   ]
  },
  {
   "cell_type": "markdown",
   "metadata": {},
   "source": [
    "#### Branch and Bound Approach"
   ]
  },
  {
   "cell_type": "code",
   "execution_count": 10,
   "metadata": {},
   "outputs": [
    {
     "name": "stdout",
     "output_type": "stream",
     "text": [
      "Complete Feasible Iterations: 2527\n",
      "Total Feasible solutions Covered: 2438\n",
      "Total Optimal solutions: 5\n",
      "Optimal Solutions [x1, x2, x3, x4, x5] = [[0, 2, 6, 10, 26], [1, 2, 4, 10, 27], [1, 2, 6, 11, 25], [1, 3, 5, 10, 26], [2, 3, 5, 11, 25]]\n",
      "Given 604473 solutions, feasible solutions excluded: 602035\n"
     ]
    }
   ],
   "source": [
    "optim_sols = []\n",
    "feasible_sols = []\n",
    "iter = 0\n",
    "\n",
    "# branch on x1 value\n",
    "for x1 in range(xbounds[0]):\n",
    "    x = [x1, 0, 0, 0, 0]\n",
    "    allocated = 1\n",
    "    \n",
    "    # bound on x1 value\n",
    "    if (satisfy_Cons(x, beta, Rsquare)):\n",
    "        part_ub = partial_upperBound(x, alpha, beta, Rsquare, allocated)\n",
    "        if (part_ub < lower_bound[-1]) : \n",
    "            continue\n",
    "        \n",
    "        # branch on x2 value\n",
    "        for x2 in range(xbounds[1]):\n",
    "            x = [x1, x2, 0, 0, 0]\n",
    "            allocated = 2\n",
    "            \n",
    "            # bound on x2 value\n",
    "            if (satisfy_Cons(x, beta, Rsquare)):\n",
    "                part_ub = partial_upperBound(x, alpha, beta, Rsquare, allocated)\n",
    "                if (part_ub < lower_bound[-1]) : \n",
    "                    continue\n",
    "                \n",
    "                # branch on x3 value\n",
    "                for x3 in range(xbounds[2]):\n",
    "                    x = [x1, x2, x3, 0, 0]\n",
    "                    allocated = 3\n",
    "                    \n",
    "                    # bound on x3 value\n",
    "                    if (satisfy_Cons(x, beta, Rsquare)):\n",
    "                        part_ub = partial_upperBound(x, alpha, beta, Rsquare, allocated)\n",
    "                        if (part_ub < lower_bound[-1]) : \n",
    "                            continue\n",
    "                        \n",
    "                        # branch on x4 value\n",
    "                        for x4 in range(xbounds[3]):\n",
    "                            x = [x1, x2, x3, x4, 0]\n",
    "                            allocated = 4\n",
    "                            \n",
    "                            # bound on x4 value\n",
    "                            if (satisfy_Cons(x, beta, Rsquare)):\n",
    "                                part_ub = partial_upperBound(x, alpha, beta, Rsquare, allocated)\n",
    "                                if (part_ub < lower_bound[-1]) : \n",
    "                                    continue\n",
    "\n",
    "                                # branch on x5 value\n",
    "                                for x5 in range(xbounds[4]):\n",
    "                                    iter += 1\n",
    "                                    x = [x1, x2, x3, x4, x5]\n",
    "                                    obj_val = maxObjective(x, alpha)\n",
    "\n",
    "                                    # bound on final feasible value of objective function\n",
    "                                    if (satisfy_Cons(x, beta, Rsquare)):\n",
    "                                        if obj_val > lower_bound[-1]:\n",
    "                                            lower_bound.append(obj_val)\n",
    "                                            \n",
    "                                        feasible_sols.append(x)\n",
    "                                        if obj_val == upper_bound:\n",
    "                                            optim_sols.append(x)\n",
    "                                    \n",
    "                                    else:   break\n",
    "\n",
    "                            else:   break\n",
    "\n",
    "                    else:   break\n",
    "\n",
    "            else:   break\n",
    "        \n",
    "    else:   break\n",
    "\n",
    "\n",
    "print(\"Complete Feasible Iterations: {}\".format(iter))\n",
    "print(\"Total Feasible solutions Covered: {}\".format(len(feasible_sols)))\n",
    "print(\"Total Optimal solutions: {}\".format(len(optim_sols)))\n",
    "print(\"Optimal Solutions [x1, x2, x3, x4, x5] = {}\".format(optim_sols))\n",
    "print(\"Given {} solutions, feasible solutions excluded: {}\".format(len(greedy_feasible_sols),(len(greedy_feasible_sols) - len(feasible_sols))))"
   ]
  },
  {
   "cell_type": "code",
   "execution_count": 11,
   "metadata": {},
   "outputs": [
    {
     "data": {
      "text/plain": [
       "Text(0.5, 1.0, 'Change in Lower Bound')"
      ]
     },
     "execution_count": 11,
     "metadata": {},
     "output_type": "execute_result"
    },
    {
     "data": {
      "image/png": "[encoded data removed]",
      "text/plain": [
       "<Figure size 720x576 with 1 Axes>"
      ]
     },
     "metadata": {
      "needs_background": "light"
     },
     "output_type": "display_data"
    }
   ],
   "source": [
    "plt.figure(figsize=(10,8))\n",
    "plt.plot(lower_bound, marker='o')\n",
    "plt.xlabel(\"Number of Changes\")\n",
    "plt.ylabel(\"Lower Bound\")\n",
    "plt.title(\"Change in Lower Bound\")"
   ]
  },
  {
   "cell_type": "code",
   "execution_count": null,
   "metadata": {},
   "outputs": [],
   "source": []
  }
 ],
 "metadata": {
  "interpreter": {
   "hash": "6deba854f73701cf96f67599d2e89ceb358b45b5aeac6b72dc7e48ba0a56f3a4"
  },
  "kernelspec": {
   "display_name": "Python 3.9.10 ('base')",
   "language": "python",
   "name": "python3"
  },
  "language_info": {
   "codemirror_mode": {
    "name": "ipython",
    "version": 3
   },
   "file_extension": ".py",
   "mimetype": "text/x-python",
   "name": "python",
   "nbconvert_exporter": "python",
   "pygments_lexer": "ipython3",
   "version": "3.9.10"
  },
  "orig_nbformat": 4
 },
 "nbformat": 4,
 "nbformat_minor": 2
}
