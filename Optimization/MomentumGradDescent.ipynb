{
 "cells": [
  {
   "cell_type": "code",
   "execution_count": 1,
   "metadata": {},
   "outputs": [],
   "source": [
    "import numpy as np\n",
    "import matplotlib.pyplot as plt\n",
    "%matplotlib inline"
   ]
  },
  {
   "cell_type": "code",
   "execution_count": 2,
   "metadata": {},
   "outputs": [],
   "source": [
    "def genData(D):\n",
    "    # generate DxD matrix (random normal numbers, mean = 0, std = 1)\n",
    "    A = np.random.normal(0,1,(D,D))\n",
    "    # generate v vector (random normal numbers, mean = 0, std = 1)\n",
    "    v = np.random.normal(0,1,(D,1))\n",
    "    # randomly choose k\n",
    "    k = np.random.randint(D)\n",
    "    # generate e_k column\n",
    "    e_k = np.array([[int(i==k)] for i in range(D)])\n",
    "    \n",
    "    return A, v, e_k"
   ]
  },
  {
   "cell_type": "code",
   "execution_count": 3,
   "metadata": {},
   "outputs": [],
   "source": [
    "def gradDescent(alpha, A, v, e_k):\n",
    "    # store Fv at each iteration\n",
    "    F = []\n",
    "    flag = False\n",
    "    iter = 0\n",
    "    # print(\"****Vanilla Gradient Descent****\")\n",
    "    while not (flag):\n",
    "        iter += 1\n",
    "        pred = A @ v\n",
    "        Fv = sum(np.square(pred - e_k))\n",
    "        F.append(Fv)\n",
    "        v = v - (alpha * (np.transpose(A) @ (pred - e_k)))\n",
    "        # print(\"Iteration {}: Cost={}\".format(iter, Fv))\n",
    "        # break loop if cost is very small\n",
    "        if Fv <= 0.0001:\n",
    "            flag = True\n",
    "    return F, iter"
   ]
  },
  {
   "cell_type": "code",
   "execution_count": 4,
   "metadata": {},
   "outputs": [],
   "source": [
    "def momentumGradDescent(alpha, beta, A, v, e_k):\n",
    "    # generate symmetric matrix Q as (A.t)(A)\n",
    "    Q = np.transpose(A) @ A\n",
    "    # generate c vector\n",
    "    c = -np.transpose(A) @ e_k\n",
    "    x_t = v\n",
    "    # store Fv at each iteration\n",
    "    F = []\n",
    "    flag = False\n",
    "    iter = 0\n",
    "    # let x[t-1] be 0 for initial step\n",
    "    x_t_minus_1 = np.zeros_like(x_t)\n",
    "    # print(\"****Momentum Gradient Descent****\")\n",
    "    while not (flag):\n",
    "        iter += 1\n",
    "        grad_F = Q @ x_t + c\n",
    "        d_t = x_t - x_t_minus_1\n",
    "        F_x_t = sum(np.square((A @ x_t) - e_k))\n",
    "        F.append(F_x_t)\n",
    "        x_t_plus_1 = x_t - (alpha * grad_F) + (beta * d_t)\n",
    "        #print(\"Iteration {}: Cost={}\".format(iter, F_x_t))\n",
    "        # break loop if cost is very small\n",
    "        if F_x_t <= 0.0001:\n",
    "            flag = True\n",
    "        x_t_minus_1 = x_t\n",
    "        x_t = x_t_plus_1\n",
    "    \n",
    "    return F, iter"
   ]
  },
  {
   "cell_type": "code",
   "execution_count": 5,
   "metadata": {},
   "outputs": [
    {
     "name": "stdout",
     "output_type": "stream",
     "text": [
      "Vanilla Grad Descent:       minimum Fv = [9.97152924e-05], Total iterations = 2191\n",
      "Momentum Grad Descent:    minimum Fv = [9.93027012e-05], Total iterations = 543\n",
      "Vanilla Grad Descent Decay Rate = [0.01099045], Momentum Grad Desecnt Decay Rate = [0.04434635]\n",
      "\n"
     ]
    },
    {
     "data": {
      "image/png": "[encoded data removed]",
      "text/plain": [
       "<Figure size 720x576 with 1 Axes>"
      ]
     },
     "metadata": {
      "needs_background": "light"
     },
     "output_type": "display_data"
    }
   ],
   "source": [
    "# set alpha\n",
    "alpha = 0.01\n",
    "# set beta\n",
    "beta = 0.8\n",
    "# set dimension\n",
    "D = 5\n",
    "\n",
    "# generate random matrix and vector\n",
    "[A, v, e_k] = genData(D)\n",
    "# run gradient descent for D = 10\n",
    "[F_grad, iter_grad] = gradDescent(alpha, A, v, e_k)\n",
    "[F_momentGrad, iter_momentGrad] = momentumGradDescent(alpha, beta, A, v, e_k)\n",
    "\n",
    "print(\"Vanilla Grad Descent:       minimum Fv = {}, Total iterations = {}\"\\\n",
    "    .format(F_grad[len(F_grad)-1], iter_grad))\n",
    "print(\"Momentum Grad Descent:    minimum Fv = {}, Total iterations = {}\"\\\n",
    "    .format(F_momentGrad[len(F_momentGrad)-1], iter_momentGrad))\n",
    "d_grad = abs(F_grad[len(F_grad)-1] - F_grad[0])/iter_grad\n",
    "d_momentGrad = abs(F_momentGrad[len(F_momentGrad)-1] - F_momentGrad[0])/iter_momentGrad\n",
    "print(\"Vanilla Grad Descent Decay Rate = {}, Momentum Grad Desecnt Decay Rate = {}\\n\"\\\n",
    "    .format(d_grad, d_momentGrad))\n",
    "\n",
    "plt.figure(figsize=(10, 8))\n",
    "plt.plot(F_grad)\n",
    "plt.plot(F_momentGrad)\n",
    "plt.title(r'Vanilla vs. Momentum Gradient Descent [D = {}, $\\alpha\\ = {}, \\beta = {}$]'\\\n",
    "    .format(D, alpha, beta))\n",
    "plt.xlabel('Iterations')\n",
    "plt.ylabel('Cost')\n",
    "plt.legend(['Vanilla', 'Momentum'])\n",
    "plt.show()"
   ]
  },
  {
   "cell_type": "markdown",
   "metadata": {},
   "source": [
    "##### *The above graph clearly depicts the faster convergence with momentum gradient descent*\n",
    "##### *as compared to Naive gradient descent.*"
   ]
  },
  {
   "cell_type": "markdown",
   "metadata": {},
   "source": []
  }
 ],
 "metadata": {
  "interpreter": {
   "hash": "6deba854f73701cf96f67599d2e89ceb358b45b5aeac6b72dc7e48ba0a56f3a4"
  },
  "kernelspec": {
   "display_name": "Python 3.9.10 ('base')",
   "language": "python",
   "name": "python3"
  },
  "language_info": {
   "codemirror_mode": {
    "name": "ipython",
    "version": 3
   },
   "file_extension": ".py",
   "mimetype": "text/x-python",
   "name": "python",
   "nbconvert_exporter": "python",
   "pygments_lexer": "ipython3",
   "version": "3.9.10"
  },
  "orig_nbformat": 4
 },
 "nbformat": 4,
 "nbformat_minor": 2
}
